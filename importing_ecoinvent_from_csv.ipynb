{
 "cells": [
  {
   "cell_type": "code",
   "execution_count": null,
   "metadata": {},
   "outputs": [],
   "source": [
    "import brightway2 as bw\n",
    "\n",
    "bw.projects.set_current(\"EF calculation\")\n",
    "bw.bw2setup()"
   ]
  },
  {
   "cell_type": "code",
   "execution_count": null,
   "metadata": {},
   "outputs": [],
   "source": [
    "ei_csv_filepath = r\"./databases/ecoinvent3.8.CSV\"\n",
    "ei_importer = bw.SimaProCSVImporter(\n",
    "    ei_csv_filepath, name=\"ecoinvent_3.8_cutoff_from_sp\"\n",
    ")\n",
    "\n",
    "ei_importer.apply_strategies()\n",
    "ei_importer.statistics()"
   ]
  },
  {
   "cell_type": "code",
   "execution_count": null,
   "metadata": {},
   "outputs": [],
   "source": [
    "ei_importer.add_unlinked_flows_to_biosphere_database()\n",
    "ei_importer.statistics()"
   ]
  },
  {
   "cell_type": "code",
   "execution_count": null,
   "metadata": {},
   "outputs": [],
   "source": [
    "# Adding SimaPro categories to the activity\n",
    "for process in ei_importer:\n",
    "    if \"exchanges\" in process:\n",
    "        products = [x for x in process[\"exchanges\"] if x[\"type\"] == \"production\"]\n",
    "        assert len(products) == 1\n",
    "        product = products[0]\n",
    "        process[\"simapro_categories\"] = product[\"categories\"]"
   ]
  },
  {
   "cell_type": "code",
   "execution_count": null,
   "metadata": {},
   "outputs": [],
   "source": [
    "ei_importer.write_database()"
   ]
  },
  {
   "cell_type": "code",
   "execution_count": null,
   "metadata": {},
   "outputs": [],
   "source": []
  }
 ],
 "metadata": {},
 "nbformat": 4,
 "nbformat_minor": 0
}
