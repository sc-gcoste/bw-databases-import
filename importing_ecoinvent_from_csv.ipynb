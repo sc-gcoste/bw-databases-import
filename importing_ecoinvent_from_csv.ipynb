{
 "cells": [
  {
   "cell_type": "code",
   "execution_count": 1,
   "metadata": {
    "collapsed": true
   },
   "outputs": [
    {
     "name": "stdout",
     "output_type": "stream",
     "text": [
      "Biosphere database already present!!! No setup is needed\n"
     ]
    }
   ],
   "source": [
    "import brightway2 as bw\n",
    "\n",
    "bw.projects.set_current(\"EF calculation\")\n",
    "bw.bw2setup()"
   ]
  },
  {
   "cell_type": "code",
   "execution_count": 2,
   "outputs": [
    {
     "name": "stdout",
     "output_type": "stream",
     "text": [
      "Extracted 21759 unallocated datasets in 50.96 seconds\n",
      "Applying strategy: normalize_units\n",
      "Applying strategy: update_ecoinvent_locations\n",
      "Applying strategy: assign_only_product_as_production\n",
      "Applying strategy: drop_unspecified_subcategories\n",
      "Applying strategy: sp_allocate_products\n",
      "Applying strategy: fix_zero_allocation_products\n",
      "Applying strategy: split_simapro_name_geo\n",
      "Applying strategy: strip_biosphere_exc_locations\n",
      "Applying strategy: migrate_datasets\n",
      "Applying strategy: migrate_exchanges\n",
      "Applying strategy: set_code_by_activity_hash\n",
      "Applying strategy: link_technosphere_based_on_name_unit_location\n",
      "Applying strategy: change_electricity_unit_mj_to_kwh\n",
      "Applying strategy: set_lognormal_loc_value_uncertainty_safe\n",
      "Applying strategy: normalize_biosphere_categories\n",
      "Applying strategy: normalize_simapro_biosphere_categories\n",
      "Applying strategy: normalize_biosphere_names\n",
      "Applying strategy: normalize_simapro_biosphere_names\n",
      "Applying strategy: migrate_exchanges\n",
      "Applying strategy: fix_localized_water_flows\n",
      "Applying strategy: link_iterable_by_fields\n",
      "Applying strategy: convert_activity_parameters_to_list\n",
      "Applied 22 strategies in 40.74 seconds\n",
      "21759 datasets\n",
      "689363 exchanges\n",
      "12445 unlinked exchanges\n",
      "  Type biosphere: 88 unique unlinked exchanges\n"
     ]
    },
    {
     "data": {
      "text/plain": "(21759, 689363, 12445)"
     },
     "execution_count": 2,
     "metadata": {},
     "output_type": "execute_result"
    }
   ],
   "source": [
    "ei_csv_filepath = r\"./databases/ecoinvent3.8.CSV\"\n",
    "ei_importer = bw.SimaProCSVImporter(\n",
    "    ei_csv_filepath, name=\"ecoinvent_3.8_cutoff_from_sp\"\n",
    ")\n",
    "\n",
    "ei_importer.apply_strategies()\n",
    "ei_importer.statistics()"
   ],
   "metadata": {
    "collapsed": false
   }
  },
  {
   "cell_type": "code",
   "execution_count": 3,
   "outputs": [
    {
     "name": "stdout",
     "output_type": "stream",
     "text": [
      "Vacuuming database \n"
     ]
    },
    {
     "name": "stderr",
     "output_type": "stream",
     "text": [
      "Writing activities to SQLite3 database:\n",
      "0% [##############################] 100% | ETA: 00:00:00\n",
      "Total time elapsed: 00:00:04\n"
     ]
    },
    {
     "name": "stdout",
     "output_type": "stream",
     "text": [
      "Title: Writing activities to SQLite3 database:\n",
      "  Started: 11/23/2022 16:41:25\n",
      "  Finished: 11/23/2022 16:41:30\n",
      "  Total time elapsed: 00:00:04\n",
      "  CPU %: 14.40\n",
      "  Memory %: 10.37\n",
      "Applying strategy: link_iterable_by_fields\n",
      "21759 datasets\n",
      "689363 exchanges\n",
      "0 unlinked exchanges\n",
      "  \n"
     ]
    },
    {
     "data": {
      "text/plain": "(21759, 689363, 0)"
     },
     "execution_count": 3,
     "metadata": {},
     "output_type": "execute_result"
    }
   ],
   "source": [
    "ei_importer.add_unlinked_flows_to_biosphere_database()\n",
    "ei_importer.statistics()"
   ],
   "metadata": {
    "collapsed": false
   }
  },
  {
   "cell_type": "code",
   "execution_count": 4,
   "outputs": [],
   "source": [
    "# Adding SimaPro categories to the activity\n",
    "for process in ei_importer:\n",
    "    if \"exchanges\" in process:\n",
    "        products = [x for x in process[\"exchanges\"] if x[\"type\"] == \"production\"]\n",
    "        assert len(products) == 1\n",
    "        product = products[0]\n",
    "        process[\"simapro_categories\"] = product[\"categories\"]"
   ],
   "metadata": {
    "collapsed": false
   }
  },
  {
   "cell_type": "code",
   "execution_count": 5,
   "outputs": [
    {
     "name": "stderr",
     "output_type": "stream",
     "text": [
      "Writing activities to SQLite3 database:\n",
      "0% [##############################] 100% | ETA: 00:00:00\n",
      "Total time elapsed: 00:01:56\n"
     ]
    },
    {
     "name": "stdout",
     "output_type": "stream",
     "text": [
      "Title: Writing activities to SQLite3 database:\n",
      "  Started: 11/23/2022 16:42:23\n",
      "  Finished: 11/23/2022 16:44:19\n",
      "  Total time elapsed: 00:01:56\n",
      "  CPU %: 55.80\n",
      "  Memory %: 10.67\n",
      "Created database: ecoinvent_3.8_cutoff_from_sp\n"
     ]
    },
    {
     "data": {
      "text/plain": "Brightway2 SQLiteBackend: ecoinvent_3.8_cutoff_from_sp"
     },
     "execution_count": 5,
     "metadata": {},
     "output_type": "execute_result"
    }
   ],
   "source": [
    "ei_importer.write_database()"
   ],
   "metadata": {
    "collapsed": false
   }
  },
  {
   "cell_type": "code",
   "execution_count": 5,
   "outputs": [],
   "source": [],
   "metadata": {
    "collapsed": false
   }
  }
 ],
 "metadata": {
  "kernelspec": {
   "display_name": "Python 3",
   "language": "python",
   "name": "python3"
  },
  "language_info": {
   "codemirror_mode": {
    "name": "ipython",
    "version": 2
   },
   "file_extension": ".py",
   "mimetype": "text/x-python",
   "name": "python",
   "nbconvert_exporter": "python",
   "pygments_lexer": "ipython2",
   "version": "2.7.6"
  }
 },
 "nbformat": 4,
 "nbformat_minor": 0
}
